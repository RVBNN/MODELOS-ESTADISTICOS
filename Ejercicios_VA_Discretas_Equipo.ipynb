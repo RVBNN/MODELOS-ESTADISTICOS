{
 "cells": [
  {
   "cell_type": "markdown",
   "id": "9d0c2ca3",
   "metadata": {},
   "source": [
    "# Ejercicios Variables Aleatorias Discretas"
   ]
  },
  {
   "cell_type": "code",
   "execution_count": 2,
   "id": "51795a9e",
   "metadata": {},
   "outputs": [],
   "source": [
    "import numpy as np #Importamos el modulo NuumPy\n",
    "import numpy.random as npr #Importamosun submódulo de NumPy que se utiliza para generar números aleatorios.\n",
    "\n",
    "import scipy.stats as sps #Impotamos el modulo SciPy\n",
    "from scipy.stats import randint #Para trabajar con una distribución uniforme discreta en un rango de enteros. funcion randit\n",
    "\n",
    "import matplotlib.pyplot as plt #Matplotlib es una biblioteca de visualización de datos en Python.\n",
    "\n",
    "import random #random es el módulo estándar de Python para la generación de números aleatorios.\n",
    "\n",
    "#warnings es un módulo de Python que permite gestionar y controlar los mensajes de advertencia (warnings) que el código podría generar.\n",
    "import warnings\n",
    "warnings.filterwarnings(\"ignore\")"
   ]
  },
  {
   "cell_type": "markdown",
   "id": "aee9b0f1",
   "metadata": {},
   "source": [
    "# Variable aleatoria uniforme discreta\n",
    "\n",
    "Una variable aleatoria $X$ tiene distribución uniforme discreta en el conjunto $\\{x_{1},\\dots,x_{n}\\}$ si su función de masa de probabilidades está dada por\n",
    "$$f_{X}(k)=\\mathbb{P}(X=k)=\\begin{cases}\n",
    "\\frac{1}{n} &\\quad \\text{si } k\\in\\{x_{1},\\dots,x_{n}\\} \\\\\n",
    "0 &\\quad \\text{en otro caso}\n",
    "\\end{cases}$$\n",
    "\n",
    "**Notación:** $X\\sim Unif(x_{1},\\dots,x_{n}).$\n",
    "\n",
    "Se llama uniforme porque cada uno de los posibles valores de $X$ tienen la misma probabilidad.\n",
    "\n",
    "Si $X\\sim Unif(x_{1},\\dots,x_{n})$, en este caso, se tiene:\n",
    "\t$$\\mathbb{E}[X] = \\sum_{k}kf_{X}(k)=\\frac{x_n + x_1}{2}.$$\n",
    "\ty\n",
    "\t$$\\text{Var}(X) = \\mathbb{E}[(X-\\mathbb{E}[X])^{2}] =\\sum_{k}(k-\\mathbb{E}[X])^{2}f_{X}(k)=\\frac{(x_n - x_1+1)^2-1}{12}$$\n",
    "\n",
    "$\\color{red}{\\text{Ejercicio 1.}}$ Verifica que, en efecto, la esperanza y varianza de una variable aleatoria uniforme está dada como antes.\n",
    "\n",
    "### *Demostración:*\n",
    "\n",
    "Por definición, la esperanza de una variable aleatoria discreta se calcula de la siguiente forma:\n",
    "$$\\mathbb{E}[X]=\\sum_{k=x_1}^{x_n}kf_{X}(k)=\\sum_{k=x_1}^{x_n}k ⋅ \\mathbb{P}(X=k)$$\n",
    "Dado que $X$ es uniforme, sabemos que\n",
    "$$\\mathbb{P}(X=k)=\\frac{1}{n} \\text{ para cada } k \\in\\{x_1,\\dots,x_{n}\\} \\text{ y } n=x_n -(x_1 -1)$$\n",
    "Por lo que\n",
    "$$\\mathbb{E}[X] =\\sum_{k=x_1}^{x_n}k\\frac{1}{n}=\\frac{1}{n}\\sum_{k=x_1}^{x_n}k$$\n",
    "\n",
    "Dado que $X$ toma los valores consecutivos de $\\{x_{1},\\dots,x_{n}\\}$, entonces:\n",
    "\n",
    "$$\\sum_{k=x_1}^{x_n}k = \\frac{x_n(x_n +1)}{2} - \\frac{x_1(x_1 +1)}{2} = \\frac{(x_n-x_1+1)(x_n + x_1)}{2} $$\n",
    "\n",
    "Finalmente, vemos que\n",
    "\n",
    "$$\\mathbb{E}[X] = \\frac{1}{x_n-x_1+1} · \\frac{(x_n-x_1+1)(x_n + x_1)}{2} = \\frac{x_n +x_1}{2} $$\n",
    "\n",
    "Ahora para el caso de $\\text{Var}(X)$, vemos que por definición:\n",
    "\n",
    "$$\\text{Var}(X)= \\mathbb{E}[X^2] -(\\mathbb{E}[X])^2 $$\n",
    "\n",
    "Por lo que vamos a calcular $\\mathbb{E}[X^2]$ que está definido como:\n",
    "\n",
    " $$ \\mathbb{E}[X^2] = \\sum_{k=x_1}^{x_n}k^2f_{X}(k)= \\sum_{k=x_1}^{x_n}k^2·\\mathbb{P}(X=k)$$\n",
    "\n",
    "Como ya vimos   $$\\mathbb{P}(X=k) = \\frac{1}{x_n-x_1+1}$$\n",
    "\n",
    "Dado que $X$ toma los valores consecutivos de $\\{x_{1},\\dots,x_{n}\\}$, entonces:\n",
    "\n",
    "\\begin{aligned}\n",
    "\\sum_{k=x_1}^{x_n}k^2\n",
    "&= \\frac{x_n(x_n+1)(2x_n+1)}{6}-\\frac{x_1(x_1+1)(2x_1+1)}{6} \\\\\n",
    "&= \\frac{(x_n - x_1 + 1)(2x_n^2 + 2x_1^2 + 2x_n x_1 - x_1 + x_n)}{6}\n",
    "\\end{aligned}\n",
    "\n",
    "Por lo que:\n",
    "\\begin{aligned}\n",
    "\\mathbb{E}[X^2]\n",
    "&=\\frac{1}{x_n-x_1+1} · \\frac{(x_n - x_1 + 1)(2x_n^2 + 2x_1^2 + 2x_n x_1 - x_1 + x_n)}{6} \\\\\n",
    "&= \\frac{(2x_n^2 + 2x_1^2 + 2x_n x_1 - x_1 + x_n)}{6}\n",
    "\\end{aligned}\n",
    "\n",
    "Finalmente, podemos calcular la varianza\n",
    "\n",
    "\\begin{aligned}\n",
    "\\text{Var}(X)\n",
    "&= \\mathbb{E}[X^2] - (\\mathbb{E}[X])^2 \\\\\n",
    "&= \\frac{2x_1^2 + 2x_n^2 + 2x_n x_1}{6} - \\left( \\frac{x_n + x_1}{2} \\right)^2 \\\\\n",
    "&= \\frac{2x_1^2 + 2x_n^2 + 2x_n x_1}{6} - \\frac{x_1^2 + x_n^2 + 2x_1 x_n}{4}\\\\\n",
    "&= \\frac{4x_1^2 + 4x_n^2 + 4x_n x_1 - 2x_1^2 - 2x_n^2 - 2x_1 x_n}{12}\\\\\n",
    "&= \\frac{x_1^2 + x_n^2 - 2x_1 x_n}{12}\\\\\n",
    "&= \\frac{(x_n - x_1 + 1)^2 - 1}{12}\n",
    "\\end{aligned}\n"
   ]
  },
  {
   "cell_type": "markdown",
   "id": "a3a75dfd",
   "metadata": {},
   "source": [
    "$\\color{red}{\\text{Ejercicio 2.}}$ Dibuja a la función de distribución acumulada de la variable aleatoria:\n",
    "$$S:\\{1,2,3,4,5,6\\}^{2}\\to \\{2, 3, 4, 5, 6, 7, 8, 9, 10, 11, 12 \\}$$\n",
    "dada por\n",
    "$S(i,j)=i+j.$\n",
    "\n",
    "### *Solución:*"
   ]
  },
  {
   "cell_type": "code",
   "execution_count": 15,
   "id": "2cb90210",
   "metadata": {},
   "outputs": [
    {
     "name": "stdout",
     "output_type": "stream",
     "text": [
      "La probabilidad de que la suma de las caras sea 2 es 1/36 = 0.03\n",
      "La probabilidad de que la suma de las caras sea 3 es 1/18 = 0.06\n",
      "La probabilidad de que la suma de las caras sea 4 es 1/12 = 0.08\n",
      "La probabilidad de que la suma de las caras sea 5 es 1/9 = 0.11\n",
      "La probabilidad de que la suma de las caras sea 6 es 5/36 = 0.14\n",
      "La probabilidad de que la suma de las caras sea 7 es 1/6 = 0.17\n",
      "La probabilidad de que la suma de las caras sea 8 es 5/36 = 0.14\n",
      "La probabilidad de que la suma de las caras sea 9 es 1/9 = 0.11\n",
      "La probabilidad de que la suma de las caras sea 10 es 1/12 = 0.08\n",
      "La probabilidad de que la suma de las caras sea 11 es 1/18 = 0.06\n",
      "La probabilidad de que la suma de las caras sea 12 es 1/36 = 0.03\n"
     ]
    },
    {
     "data": {
      "image/png": "[encoded data removed]",
      "text/plain": [
       "<Figure size 2000x600 with 2 Axes>"
      ]
     },
     "metadata": {},
     "output_type": "display_data"
    }
   ],
   "source": [
    "# Definimos el dominio de nuestra variable aleatoria: Conjunto de posibles valores que puede tomar\n",
    "lanzamiento = [i for i in range(1,7)]\n",
    "dominio = set(product(lanzamiento, repeat = 2))\n",
    "\n",
    "# Definimos el espacio muestral: Espacio de todos los posibles resultados del experimento\n",
    "omega = {(i,j): (i+j) for i,j in dominio}\n",
    "omega = dict(sorted(omega.items()))\n",
    "\n",
    "# Agrupamos los elementos que hacen posible al resultado\n",
    "resultados = defaultdict(set)\n",
    "\n",
    "for pareja_ordenada, suma_caras in omega.items():\n",
    "    resultados[suma_caras].add(pareja_ordenada)\n",
    "    \n",
    "# Calculamos su funcion de probabilidad (fdp)\n",
    "fdp = pd.DataFrame(columns=['suma_caras', 'probabilidad', 'expresion'])\n",
    "\n",
    "# Utilizando la probabilidad clásica\n",
    "for key, value in resultados.items():\n",
    "    probability = len(value)/len(omega)\n",
    "    fraction = Fraction(len(value), len(omega))\n",
    "\n",
    "    # Imprimir resultados\n",
    "    print(f\"La probabilidad de que la suma de las caras sea {key} es {fraction} = {np.round(probability, 2)}\")\n",
    "\n",
    "    # Guardamos los resultados en un dataframe\n",
    "    nueva_fila = pd.DataFrame({\n",
    "        'suma_caras': [key],\n",
    "        'probabilidad': [probability],\n",
    "        'expresion': [fraction]\n",
    "    })\n",
    "    fdp = pd.concat([fdp, nueva_fila], ignore_index=True)\n",
    "fdp['funcion_distribucion'] = fdp['probabilidad'].cumsum()\n",
    "\n",
    "# Funcion para agregar etiquetas de datos\n",
    "def addlabels(x,y, type):\n",
    "    if type == 0:\n",
    "      for i in range(len(x)):\n",
    "          plt.text(x[i], y[i]+0.002, str(y[i]), ha = 'center')\n",
    "    elif type == 1:\n",
    "      for i in range(len(x)):\n",
    "          ax1.text(x[i], y[i]+0.002, y[i], ha = 'center')\n",
    "    else:\n",
    "      for i in range(len(x)):\n",
    "          ax2.text(x[i], y[i]+0.02, str(y[i]), ha = 'center')\n",
    "\n",
    "# ---------------------- Lienzo ----------------------\n",
    "fig, (ax1, ax2) = plt.subplots(1, 2, figsize=(20, 6))\n",
    "\n",
    "# ---------------------- Funcion de probabilidad ----------------------\n",
    "ax1.bar(fdp['suma_caras'], fdp['probabilidad'], alpha = 0.4)\n",
    "addlabels(fdp['suma_caras'], fdp['expresion'], 1)\n",
    "\n",
    "# Valores eje X\n",
    "x_ticks = np.arange(min(fdp['suma_caras']), max(fdp['suma_caras'])+1, 1)\n",
    "ax1.set_xticks(x_ticks)\n",
    "\n",
    "# Etiquetas\n",
    "ax1.set_title('Funcion de Probabilidad: $f_{X}(x)$')\n",
    "ax1.set_xlabel('Suma de caras')\n",
    "ax1.set_label('Probabilidad')\n",
    "ax1.grid(False)\n",
    "\n",
    "# ---------------------- Funcion de distribucion ----------------------\n",
    "ax2.plot(fdp['suma_caras'], fdp['funcion_distribucion'], color = 'orange', marker = \"o\")\n",
    "ax2.fill_between(fdp['suma_caras'].astype(float), fdp['funcion_distribucion'].astype(float), color = 'navajowhite', alpha=0.7)\n",
    "addlabels(fdp['suma_caras'], np.round(fdp['funcion_distribucion'], 2), 2)\n",
    "\n",
    "# Valores eje X\n",
    "x_ticks = np.arange(min(fdp['suma_caras']), max(fdp['suma_caras'])+1, 1)\n",
    "ax2.set_xticks(x_ticks)\n",
    "\n",
    "# Etiquetas\n",
    "ax2.set_title('Funcion de Distribución: $F_{X}(x)$')\n",
    "ax2.set_xlabel('Suma de caras')\n",
    "ax2.set_label('Probabilidad')\n",
    "ax2.grid(False)"
   ]
  },
  {
   "cell_type": "markdown",
   "id": "e4f2ac00",
   "metadata": {},
   "source": [
    "# Variable aleatoria Poisson\n",
    "\n",
    "**Ejemplo:** Supongamos que el número de accidentes que ocurre en un punto tiene una distribución Poisson con parámetro $\\lambda=2$.\n",
    "* ¿Cuál es la probabilidad de que en un día ocurran más de dos accidentes?\n",
    "  $$\\begin{align*}\n",
    "\t\\mathbb{P}(X>2) &= 1-\\mathbb{P}(X\\le 2) \\\\ &=1-\\left[\\mathbb{P}(X=0)+\\mathbb{P}(X=1)+\\mathbb{P}(X=2)\\right] \\\\ &= 1-\\left[\\frac{e^{-2}2^{0}}{0!}+\\frac{e^{-2}2^{1}}{1!}+\\frac{e^{-2}2^{2}}{2!}\\right] \\\\ &= 1-e^{-2}\\left[1+2+2\\right] = 1-5e^{-2} = 0.3233\n",
    "  \\end{align*}$$\n",
    "\n",
    "* ¿Cuál es la probabilidad de que en un día ocurran más de dos accidentes, sabiendo que ocurre por lo menos uno?\n",
    "$$\\begin{align*}\n",
    "\\mathbb{P}(X>2 \\mid X\\ge 1) = \\frac{\\mathbb{P}(X>2 \\cap X\\ge 1)}{\\mathbb{P}(X\\ge 1)} = \\frac{\\mathbb{P}(X>2)}{\\mathbb{P}(X\\ge 1)} = \\frac{1-5e^{-2}}{1-e^{-2}} = \\frac{0.3233}{0.8646} = 0.3739\n",
    "\\end{align*}$$\n",
    "ya que $\\mathbb{P}(X\\ge 1)=1-\\mathbb{P}(X<1)=1-\\mathbb{P}(X=0)=1-e^{-2}$\n",
    "\n",
    "$\\color{red}{\\text{Ejercicio 3.}}$ Usando el atributo `.cdf` [Poisson](https://docs.scipy.org/doc/scipy/reference/generated/scipy.stats.poisson.html) calcula las probabilidades anteriores.\n",
    "\n",
    "### *Solución:*"
   ]
  },
  {
   "cell_type": "code",
   "execution_count": 4,
   "id": "7ab0cc55",
   "metadata": {},
   "outputs": [
    {
     "name": "stdout",
     "output_type": "stream",
     "text": [
      "La probabilidad de que en un día ocurran más de dos accidentes es 0.3233\n",
      "La probabilidad de que en un día ocurran más de dos accidentes, sabiendo que ocurre por lo menos uno es 0.3739\n"
     ]
    }
   ],
   "source": [
    "from scipy.stats import poisson\n",
    "P1 = 1 - poisson.cdf(2, 2)\n",
    "P2 = (1 - poisson.cdf(2, 2))/(1 - poisson.cdf(0, 2))\n",
    "print(f'La probabilidad de que en un día ocurran más de dos accidentes es {P1:.4f}')\n",
    "print(f'La probabilidad de que en un día ocurran más de dos accidentes, sabiendo que ocurre por lo menos uno es {P2:.4f}')"
   ]
  },
  {
   "cell_type": "markdown",
   "id": "14e28c19",
   "metadata": {},
   "source": [
    "$\\color{red}{\\text{Ejercicio 4.}}$ Un examen de Estadística consta de 20 preguntas tipo test y se conoce de experiencias\n",
    "anteriores que un alumno tiene probabilidad 0.7 de contestar bien cada pregunta. Obtener:\n",
    "\n",
    "a) La probabilidad de que la primera pregunta que contesta bien sea la cuarta.\n",
    "\n",
    "b) Sabiendo que para aprobar el examen es necesario contestar bien a 10 preguntas, ¿cuál es la probabilidad de que apruebe al contestar la pregunta duodécima?\n",
    "\n",
    "### **SOLUCIÓN**\n",
    "\n",
    "**a)** Sabemos que la probabilidad de contestar bien una pregunta es de $p=0.7$.\n",
    "\n",
    "Esto puede ser calculado utilizando la distribución gemétrica, pues, sabemos que en este caso $X \\sim Geo(p)$ considerando que X modela el número de intentos antes del primer éxito.\n",
    "\n",
    "En nuestro caso estamos interesados en calcular $\\mathbb{P}[X = 4]$. De esta manera, \n",
    "\n",
    "$$\\mathbb{P}[X = 4] = 0.7(1-0.7)^{3} = 0.0189$$\n",
    "\n",
    "Esto también se puede hacer en python usando **geom.pmf**"
   ]
  },
  {
   "cell_type": "code",
   "execution_count": 6,
   "id": "8f8516a5",
   "metadata": {},
   "outputs": [
    {
     "name": "stdout",
     "output_type": "stream",
     "text": [
      "0.0189\n"
     ]
    }
   ],
   "source": [
    "PA = sps.geom.pmf(4, 0.7)\n",
    "print(f'{PA:.4f}')"
   ]
  },
  {
   "cell_type": "markdown",
   "id": "9be7bcfa",
   "metadata": {},
   "source": [
    "**b)** Para este caso definamos tres eventos,\n",
    "\n",
    "    -A. El evento en el que en las primeras 11 preguntas se obtienen 9 aciertos.\n",
    "    -B. El evento en el que la pregunta nuúmero 12 es correcta.\n",
    "    -C. El evento en el que se apruebe el examen al contestar la duodecima pregunta.\n",
    "    \n",
    "Notemos que la probabilidad del evento A se puede calcular usando la distribución binomial. De esta manera sea $X$ la variable aleatoria que modela el obtener $k$ aciertos en $n$ preguntas donde cada pregunta tiene una probabilidad de ser contestada correctamente de $p = 0.7$, se tiene que: \n",
    "\n",
    "$$X \\sim Bin(n,p)$$\n",
    "\n",
    "Para el evento A, tenemos que $n = 11$, $k=9$. Por lo que,\n",
    "\n",
    "$$\\mathbb{P}[A] = \\mathbb{P}[X = 9] = \\binom{11}{9}(0.7)^{9}(1-0.7)^{11-9}$$\n",
    "\n",
    "Por otro lado, para el evento B, dado que cada pregunta se puede ver como un ensayo bernoulli con probabilidad $p = 0.7$. Es decir, la probabilidad de acertar la pregunta 12 es $\\mathbb{P}[B] = 0.7$.\n",
    "\n",
    "Por lo tanto, dado que todas las preguntas son ensayos independientes, la probabilidad del evento C, se puede ver de la siguiente manera \n",
    "\n",
    "$$\\mathbb{P}[C] = \\mathbb{P}[A] \\cdot \\mathbb{P}[B] = \\binom{11}{9}(0.7)^{9}(1-0.7)^{11-9} \\cdot (0.7) = \\binom{11}{9}(0.7)^{10}(1-0.7)^{11-9} = 0.1398$$\n",
    "\n",
    "Esto se puede calcular usando **binom.pmf** en python de la siguiente manera:"
   ]
  },
  {
   "cell_type": "code",
   "execution_count": 8,
   "id": "542eba5b",
   "metadata": {},
   "outputs": [
    {
     "name": "stdout",
     "output_type": "stream",
     "text": [
      "La probabilidad de que apruebe al contestar la pregunta duodécima es 0.1398\n"
     ]
    }
   ],
   "source": [
    "#Para el evento A\n",
    "#Numero de preguntas\n",
    "n = 11\n",
    "#Numero de aciertos en el numero de preguntas\n",
    "k = 9\n",
    "#Probabilidad de tener bien cada pregunta\n",
    "p = 0.7\n",
    "#Calculamos la probabilidad del evento A\n",
    "PA = sps.binom.pmf(k, n, p)\n",
    "#En este caso la proba del evento B es p = 0.7 por lo que podemos caclular directamente la proba de nuestro evento C\n",
    "PC = p * PA\n",
    "\n",
    "print(f'La probabilidad de que apruebe al contestar la pregunta duodécima es {PC:.4f}')"
   ]
  },
  {
   "cell_type": "markdown",
   "id": "5f595805",
   "metadata": {},
   "source": [
    "$\\color{red}{\\text{Ejercicio 5.}}$ Investigue sobre el problema de la caja de cerillos de Banach y explique su solución.\n",
    "\n",
    "### **SOLUCIÓN**\n",
    "\n",
    "El **Problema de Banach** establece lo siguiente,\n",
    "\n",
    "En todo momento, Banach lleva 2 cajas de cerillos, una en su bolsillo izquierdo y otra en su bolsillo derecho. Cada vez que necesita un cerillos es igualmente probable que lo saque de cualquier bolsillo. Considere el momento en que Banach descubre por primera vez que una de sus cajas de cerillos esta vacía. Si se supone que ambas cajas de cerillos iniciamente contenian N cerillos, ¿Cuál es la probabilidad de que haya exactamente k (k = 0, 1, 2, ... ,N) cerillos en la otra caja?\n",
    "\n",
    "**SOLUCIÓN**\n",
    "\n",
    "Definamos los guientes eventos:\n",
    "\n",
    "**I**:= El evento en el que Banach saca un cerillo de la caja de su bolsillo izquierdo.\n",
    "\n",
    "**D**:= El evento en el que Banach saca un cerillo de la caja de su bolsillo derecho.\n",
    "\n",
    "**B**:= El evento en el que en una de las cajas hay k cerillos y en la otra caja esta vacía.\n",
    "\n",
    "Dado que es igual de probable que Banach saque un cerillo de su bolsillo derecho o de su bolsillo izquierdo, se tiene que \n",
    "\n",
    "$$\\mathbb{P}[I] = \\mathbb{P}[D] = \\frac{1}{2}$$\n",
    "\n",
    "Para cualquiera de las dos cajas, sea X la variable aleatoria que modela el número de éxitos dados de N+1 fracasos (considerando fracaso al evento en el que se saca una cerillo de alguna de las cajas, es por ello, que se consideran N+1 fracasos, pues despues de que se sacan N cerillos la caja ya se encuentra vacía), tiene una distribución Binomial Negativa.\n",
    "\n",
    "De esta manera, considerando **k** como el numero de exitos y **N+1** como el número de fracasos, se tiene que \n",
    "\n",
    "$$\\mathbb{P}[X = k] = \\binom{k+N+1-1}{k}\\big(\\frac{1}{2}\\big)^{k}\\big(1-\\frac{1}{2}\\big)^{N+1} =  \\binom{k+N}{k}\\big(\\frac{1}{2}\\big)^{k+N+1}$$\n",
    "\n",
    "Buscamos calcular la probabilidad de que queden k cerillos en alguna de las cajas, es decir, buscamos **N-k** éxitos antes de **N+1** fallos. De esta manera, la probabilidad de que uno de las cajas se quede sin cerillos y la otra tenga k cerillos es:\n",
    "\n",
    "$$\\mathbb{P}[X = k] = \\binom{N-k+N}{N-k}\\big(\\frac{1}{2}\\big)^{N-k+N+1} =  \\binom{2N-k}{N-k}\\big(\\frac{1}{2}\\big)^{2N-k+1}$$\n",
    "\n",
    "Ahora, dado que lo anterior puede ocurrir para cualquiera de las dos cajas, se tiene que la probabilidad de nuestro evento B es:\n",
    "\n",
    "$$\\mathbb{P}[B] = 2 \\cdot \\binom{2N-k}{N-k}\\big(\\frac{1}{2}\\big)^{2N-k+1} =  2 \\cdot \\big(\\frac{1}{2}\\big) \\binom{2N-k}{N-k}\\big(\\frac{1}{2}\\big)^{2N-k} = \\binom{2N-k}{N-k}\\big(\\frac{1}{2}\\big)^{2N-k}\\quad_\\blacksquare$$"
   ]
  },
  {
   "cell_type": "markdown",
   "id": "1ef87ae9",
   "metadata": {},
   "source": [
    "$\\color{red}{\\text{Ejercicio 6.}}$ Una compañía petrolera realiza un estudio geológico que indica que un pozo petrolero exploratorio debería tener un 20% de posibilidades de encontrar petróleo.\n",
    "\n",
    "- ¿Cuál es la probabilidad de que el primer pozo se produzca en el tercer pozo perforado?\n",
    "\n",
    "Para que el primer pozo productor sea el tercero, esto implica que los dos primeros pozos deben ser secos y el tercero debe ser productor.\n",
    "\n",
    "Sea $A$ el evento en el que el tercer pozo es productor y los primeros dos están secos, sea $p$ la probabilidad de encontrar petróleo\n",
    "\n",
    "$$P(A) = (1-p)^2· p$$\n"
   ]
  },
  {
   "cell_type": "code",
   "execution_count": null,
   "id": "1aee9136",
   "metadata": {},
   "outputs": [],
   "source": [
    "p=0.20\n",
    "P6a=(1-p)**2*p\n",
    "print(f'La probabilidad de que el primer pozo se produzca en el tercer pozo perforado es {P6a:.4f}')"
   ]
  },
  {
   "cell_type": "markdown",
   "id": "64456830",
   "metadata": {},
   "source": [
    "- ¿Cuál es la probabilidad de que el tercer pozo se produzca en el séptimo pozo perforado?\n",
    "\n",
    "Podemos utilizar la distribución binomial para resolver este caso.\n",
    "\n",
    "$n:$ número de intentos (6, ya que estamos considerando los primeros 6 pozos)\n",
    "\n",
    "$k:$ número de éxitos (2 pozos productores)\n",
    "\n",
    "$p:$ probabilidad de éxito en cada intento (0.2)\n",
    "\n",
    "$$\\mathbb{P}(X=2)=\\binom{6}{2}p^{2}(1-p)^{6-2}$$\n",
    "\n",
    "Ahora, para que el tercer pozo productor sea el séptimo, el séptimo pozo debe ser productor, cuya probabilidad es 0.2.\n",
    "\n",
    "Sea B el evento en el que el tercer pozo se produzca en el séptimo pozo perforado\n",
    "\n",
    "$$\\mathbb{P}(B)= p · \\binom{6}{2}p^{2}(1-p)^{6-2} $$"
   ]
  },
  {
   "cell_type": "code",
   "execution_count": 10,
   "id": "68e68e5f",
   "metadata": {},
   "outputs": [
    {
     "name": "stdout",
     "output_type": "stream",
     "text": [
      "La probabilidad de que el tercer pozo se produzca en el séptimo pozo perforado es 0.0492\n"
     ]
    }
   ],
   "source": [
    "# Parámetros de la distribución binomial\n",
    "n = 6  # número de ensayos\n",
    "p = 0.2  # probabilidad de éxito en cada ensayo\n",
    "\n",
    "# Calcular la probabilidad tener 2 pozos productores en 6 perforados\n",
    "k = 2\n",
    "p6b =p * sps.binom.pmf(k, n, p)\n",
    "print(f'La probabilidad de que el tercer pozo se produzca en el séptimo pozo perforado es {p6b:.4f}')"
   ]
  },
  {
   "cell_type": "markdown",
   "id": "1b766f3f",
   "metadata": {},
   "source": [
    "- ¿Cuál es la media y la varianza del número de pozos que se deben perforar si la compañía petrolera quiere establecer tres pozos productores?\n",
    "\n",
    "Este es un problema de distribución binomial negativa, que modela el número de fracasos antes del k-ésimo éxito.\n",
    "\n",
    "r: número de éxitos (3 pozos productores)\n",
    "\n",
    "p: probabilidad de éxito en cada intento (0.2)\n",
    "\n",
    "La media (E[X]) y la varianza (Var[X]) de una distribución binomial negativa están dadas por:\n",
    "\n",
    "$$\\mathbb{E}[X]=\\frac{r}{p}= \\frac{3}{0.2}=15$$\n",
    "y\n",
    "$$\\text{Var}[X]=\\frac{r(1-p)}{p^2} = \\frac{3(1-0.2)}{0.2^2}=60$$"
   ]
  },
  {
   "cell_type": "code",
   "execution_count": 11,
   "id": "67f705f0",
   "metadata": {},
   "outputs": [
    {
     "name": "stdout",
     "output_type": "stream",
     "text": [
      "Para obtener 3 pozos productores\n",
      "La media del número de pozos que se deben perforar es 15.0\n",
      "La varianza del número de pozos que se deben perforar es 60.0\n"
     ]
    }
   ],
   "source": [
    "r = 3  # número de éxitos\n",
    "p = 0.2  # probabilidad de éxito en cada ensayo\n",
    "\n",
    "# Calcular la media y la varianza de la distribución binomial negativa\n",
    "media = r / p\n",
    "varianza = r * (1 - p) / (p ** 2)\n",
    "\n",
    "print('Para obtener 3 pozos productores')\n",
    "print(f'La media del número de pozos que se deben perforar es {media}')\n",
    "print(f'La varianza del número de pozos que se deben perforar es {varianza}')"
   ]
  }
 ],
 "metadata": {
  "kernelspec": {
   "display_name": "Python 3 (ipykernel)",
   "language": "python",
   "name": "python3"
  },
  "language_info": {
   "codemirror_mode": {
    "name": "ipython",
    "version": 3
   },
   "file_extension": ".py",
   "mimetype": "text/x-python",
   "name": "python",
   "nbconvert_exporter": "python",
   "pygments_lexer": "ipython3",
   "version": "3.11.4"
  }
 },
 "nbformat": 4,
 "nbformat_minor": 5
}
