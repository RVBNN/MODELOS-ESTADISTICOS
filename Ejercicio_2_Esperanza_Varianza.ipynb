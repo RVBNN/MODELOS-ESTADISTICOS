{
  "nbformat": 4,
  "nbformat_minor": 0,
  "metadata": {
    "colab": {
      "provenance": []
    },
    "kernelspec": {
      "name": "python3",
      "display_name": "Python 3"
    },
    "language_info": {
      "name": "python"
    }
  },
  "cells": [
    {
      "cell_type": "markdown",
      "source": [
        "# Esperanza y Varianza\n",
        "\n",
        "Sea $X$ una variable aleatoria Uniforme Discreta con función de probabilidad:\n",
        "\n",
        "$$f_{X}(k)=\\mathbb{P}(X=k)=\\begin{cases}\n",
        "\\frac{1}{n} &\\quad \\text{para } k\\in \\mathbb{N} \\\\\n",
        "0 &\\quad \\text{en otro caso}\n",
        "\\end{cases}$$\n",
        "\n",
        "Demuestra que si $X \\sim Unif(x_1, .., x_n)$, entonces su esperanza y varianza están dadas por:\n",
        "$$\\mathbb{E}[X] = \\sum_{k}kf_{X}(k)=\\frac{x_n + x_1}{2}$$\n",
        "\t$$\\text{Var}(X) = \\mathbb{E}[(X-\\mathbb{E}[X])^{2}] =\\sum_{k}(k-\\mathbb{E}[X])^{2}f_{X}(k)=\\frac{(x_n - x_1+1)^2-1}{12}$$"
      ],
      "metadata": {
        "id": "fgQUEHJKlBi8"
      }
    },
    {
      "cell_type": "markdown",
      "source": [
        "---\n",
        "## Demostración: Esperanza\n",
        "\n",
        "1. Por definición de esperanza tenemos que:\n",
        "\n",
        "$$ E[X] = \\sum_{x \\in R_x} x f_{X}(x) $$\n",
        "\n",
        "Tomando la funcióln de probabilidad de $X$, tenemos que:\n",
        "\n",
        "\\begin{align*}\n",
        "  E[X] &= \\sum_{x = 1} ^ n x * \\frac{1}{n} = \\frac{1}{n} \\sum_{x = 1} ^ n x \\\\\n",
        "  \\Rightarrow E[X] &= \\frac{1}{n} * \\frac{(n)(n+1)}{2} =  \\frac{n+1}{2}\\\\\n",
        "\\end{align*}\n",
        "\n",
        "$$\\therefore \\text{Si } X \\sim Unif(x_1, .., x_n) \\Rightarrow E[X] = \\frac{n+1}{2}$$\n",
        "\n",
        "---\n",
        "## Demostración: Varianza\n",
        "\n",
        "1. Por definición de Varianza tenemos que:\n",
        "\n",
        "\\begin{align*}\n",
        " \\text{Var}(X) &= \\mathbb{E}\\left[(X-\\mathbb{E}[X])^{2}\\right] \\\\\n",
        " \\text{Var}(X) &= \\mathbb{E}\\left[X^2-2X \\mathbb{E}[X] + \\mathbb{E}[X]^{2}\\right]\n",
        "\\end{align*}\n",
        "\n",
        "Por linealidad de la esperanza, tenemos que:\n",
        "\n",
        "\n",
        "\\begin{align*}\n",
        " \\text{Var}(X) &= \\mathbb{E}\\left[(X-\\mathbb{E}[X])^{2}\\right] \\\\\n",
        " \\text{Var}(X) &= \\mathbb{E}\\left[X^2 \\right]-\\mathbb{E}[2X\\mathbb{E}[X]] + \\mathbb{E}[X]^{2} \\\\\n",
        " \\text{Var}(X) &= \\mathbb{E}\\left[X^2 \\right]-2\\mathbb{E}[X]\\mathbb{E}[X] + \\mathbb{E}[X]^{2} \\\\\n",
        " \\text{Var}(X) &= \\mathbb{E}\\left[X^2 \\right]-2\\mathbb{E}[X]^2 + \\mathbb{E}[X]^{2} \\\\\n",
        " \\text{Var}(X) &= \\mathbb{E}\\left[X^2 \\right]- \\mathbb{E}[X]^{2} \\\\\n",
        "\\end{align*}\n",
        "\n",
        "Tomando la funcióln de probabilidad de $X$, y por el teorema del estadístico inconsciente:\n",
        "\n",
        "\\begin{align*}\n",
        "  \\mathbb{E}\\left[X^2 \\right] &= \\sum_{x = 1} ^ n x^2 * f_X(x)\\\\\n",
        "  \\mathbb{E}\\left[X^2 \\right] &= \\sum_{x = 1} ^ n x^2 * \\frac{1}{n} = \\frac{1}{n} \\sum_{x = 1} ^ n x^2\\\\\n",
        "  \\mathbb{E}\\left[X^2 \\right] &= \\frac{1}{n} * \\frac{n(n+1)(2n+1)}{6}\\\\\n",
        "  \\therefore \\mathbb{E}\\left[X^2 \\right] &= \\frac{(n+1)(2n+1)}{6}\\\\\n",
        "\\end{align*}\n",
        "\n",
        "De lo anterior, tenemos que:\n",
        "\n",
        "\n",
        "\\begin{align*}\n",
        " \\text{Var}(X) &= \\frac{(n+1)(2n+1)}{6} - \\left( \\frac{n+1}{2} \\right)^2 \\\\\n",
        " \\text{Var}(X) &= \\frac{(n+1)(2n+1)}{6} - \\frac{(n+1)^2}{4} = \\frac{n^2-1}{12}\\\\\n",
        "\\end{align*}\n",
        "\n",
        "$$\\therefore \\text{Si } X \\sim Unif(x_1, .., x_n) \\Rightarrow\\text{Var}(X) = \\frac{n^2-1}{12}$$"
      ],
      "metadata": {
        "id": "q0SCoKBWmMF1"
      }
    },
    {
      "cell_type": "code",
      "execution_count": null,
      "metadata": {
        "id": "1BEkPlzik7YV"
      },
      "outputs": [],
      "source": []
    }
  ]
}