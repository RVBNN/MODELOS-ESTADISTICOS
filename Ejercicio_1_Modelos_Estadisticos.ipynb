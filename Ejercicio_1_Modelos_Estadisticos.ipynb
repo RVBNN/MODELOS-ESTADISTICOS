{
  "nbformat": 4,
  "nbformat_minor": 0,
  "metadata": {
    "colab": {
      "provenance": []
    },
    "kernelspec": {
      "name": "python3",
      "display_name": "Python 3"
    },
    "language_info": {
      "name": "python"
    }
  },
  "cells": [
    {
      "cell_type": "markdown",
      "source": [
        "## Modelo de probabilidad Laplaciano (clásico):\n",
        "\n",
        "**Ejemplo** Se lanza una moneda 3 veces, de manera independiente (es decir, el lanzamienro $i$-ésimo no afecta al siguiente $i+1$).\n",
        "Tenemos que el espacio muestral de este experiemto es:\n",
        "\n",
        "$$ \\Omega = \\{A,S\\}×\\{A,S\\}×\\{A,S\\} = \\{A,S\\}^{3}$$\n",
        "donde\n",
        "$$\\#\\Omega = 2^{3} = 8.$$\n",
        "\n",
        "Sea $E$ un evento, entonces la probabilidad de $E$ se calcula como sigue:\n",
        "$$\\mathbb{P}(E) = \\frac{\\#E}{\\#\\Omega}$$\n"
      ],
      "metadata": {
        "id": "nS73AoAPWszS"
      }
    },
    {
      "cell_type": "code",
      "source": [
        "# Para crear a Omega (el espacio muestral), necesitamos una librería\n",
        "\n",
        "import itertools #importamos el módulo\n",
        "from itertools import product\n",
        "\n",
        "Omega = set(product({\"A\",\"S\"},repeat=3))\n",
        "Omega"
      ],
      "metadata": {
        "colab": {
          "base_uri": "https://localhost:8080/"
        },
        "id": "Qt3PbFufYno8",
        "outputId": "8af0ce55-fca2-40a0-89f4-7978c61967ec"
      },
      "execution_count": 25,
      "outputs": [
        {
          "output_type": "execute_result",
          "data": {
            "text/plain": [
              "{('A', 'A', 'A'),\n",
              " ('A', 'A', 'S'),\n",
              " ('A', 'S', 'A'),\n",
              " ('A', 'S', 'S'),\n",
              " ('S', 'A', 'A'),\n",
              " ('S', 'A', 'S'),\n",
              " ('S', 'S', 'A'),\n",
              " ('S', 'S', 'S')}"
            ]
          },
          "metadata": {},
          "execution_count": 25
        }
      ]
    },
    {
      "cell_type": "code",
      "source": [
        "len(Omega) #para saber cuántos elementos hay en Omega"
      ],
      "metadata": {
        "colab": {
          "base_uri": "https://localhost:8080/"
        },
        "id": "Yqb5BQSsa9rX",
        "outputId": "daf69b62-0a52-47c4-b52b-7ea34b542734"
      },
      "execution_count": 23,
      "outputs": [
        {
          "output_type": "execute_result",
          "data": {
            "text/plain": [
              "8"
            ]
          },
          "metadata": {},
          "execution_count": 23
        }
      ]
    },
    {
      "cell_type": "code",
      "source": [
        "T = (\"A\",\"A\",\"A\") #tupla\n",
        "T[0]"
      ],
      "metadata": {
        "colab": {
          "base_uri": "https://localhost:8080/",
          "height": 35
        },
        "id": "qlmmiWnZbv7D",
        "outputId": "b8061e3b-61b4-48bd-ab37-9be3713854ff"
      },
      "execution_count": 27,
      "outputs": [
        {
          "output_type": "execute_result",
          "data": {
            "text/plain": [
              "'A'"
            ],
            "application/vnd.google.colaboratory.intrinsic+json": {
              "type": "string"
            }
          },
          "metadata": {},
          "execution_count": 27
        }
      ]
    },
    {
      "cell_type": "markdown",
      "source": [
        "Consideremos los siguientes eventos:\n",
        "1. A: todos los resultado son águila\n",
        "2. S: todos los resultados son soles\n",
        "3. E: Por lo menos un resultado es sol  "
      ],
      "metadata": {
        "id": "kZYlczkFcOJK"
      }
    },
    {
      "cell_type": "markdown",
      "source": [
        "Sea el evento $A_{i}$ donde cae águila en el $i$-ésimo resultado. Así, tenemos\n",
        "\n",
        "$$A = A_{1} \\cap A_{2} \\cap A_{3}$$"
      ],
      "metadata": {
        "id": "CwtXbLhXdddS"
      }
    },
    {
      "cell_type": "markdown",
      "source": [
        "Vamos a crear a nuestro primer evento $A_{1}$, es decir donde en la primera coordenada es águila:"
      ],
      "metadata": {
        "id": "TW3lOQ3EeMTH"
      }
    },
    {
      "cell_type": "code",
      "source": [
        "A_1 = {om for om in Omega if om[0]==\"A\" } #la primer coordenada\n",
        "A_1"
      ],
      "metadata": {
        "colab": {
          "base_uri": "https://localhost:8080/"
        },
        "id": "3zg3jx-4eie4",
        "outputId": "3e4d5089-bdab-4d76-9095-84f29d1e3a78"
      },
      "execution_count": 28,
      "outputs": [
        {
          "output_type": "execute_result",
          "data": {
            "text/plain": [
              "{('A', 'A', 'A'), ('A', 'A', 'S'), ('A', 'S', 'A'), ('A', 'S', 'S')}"
            ]
          },
          "metadata": {},
          "execution_count": 28
        }
      ]
    },
    {
      "cell_type": "code",
      "source": [
        "A_2 = {om for om in Omega if om[1]==\"A\" } #la segunda coordenada es águila\n",
        "A_2"
      ],
      "metadata": {
        "colab": {
          "base_uri": "https://localhost:8080/"
        },
        "id": "7tDpNdBzgsmk",
        "outputId": "db59c610-0a94-40c1-e7ad-bfbd19a2eb21"
      },
      "execution_count": 29,
      "outputs": [
        {
          "output_type": "execute_result",
          "data": {
            "text/plain": [
              "{('A', 'A', 'A'), ('A', 'A', 'S'), ('S', 'A', 'A'), ('S', 'A', 'S')}"
            ]
          },
          "metadata": {},
          "execution_count": 29
        }
      ]
    },
    {
      "cell_type": "code",
      "source": [
        "A_3 = {om for om in Omega if om[2]==\"A\" } #la tercer coordenada es águila\n",
        "A_3"
      ],
      "metadata": {
        "colab": {
          "base_uri": "https://localhost:8080/"
        },
        "id": "dkBTEfNXiG4f",
        "outputId": "c03805ed-2ec8-4d16-9882-416b7762eafd"
      },
      "execution_count": 31,
      "outputs": [
        {
          "output_type": "execute_result",
          "data": {
            "text/plain": [
              "{('A', 'A', 'A'), ('A', 'S', 'A'), ('S', 'A', 'A'), ('S', 'S', 'A')}"
            ]
          },
          "metadata": {},
          "execution_count": 31
        }
      ]
    },
    {
      "cell_type": "markdown",
      "source": [
        "Para intersectar los conjuntos usamos la función `intersection()`"
      ],
      "metadata": {
        "id": "D8z4rz9HiUR9"
      }
    },
    {
      "cell_type": "code",
      "source": [
        "A = A_1.intersection(A_2.intersection(A_3))\n",
        "A"
      ],
      "metadata": {
        "colab": {
          "base_uri": "https://localhost:8080/"
        },
        "id": "wMoa9s3VilfU",
        "outputId": "c717d856-6450-4611-b1bf-e43b8a270287"
      },
      "execution_count": 32,
      "outputs": [
        {
          "output_type": "execute_result",
          "data": {
            "text/plain": [
              "{('A', 'A', 'A')}"
            ]
          },
          "metadata": {},
          "execution_count": 32
        }
      ]
    },
    {
      "cell_type": "markdown",
      "source": [
        "Vamos a calcular la probabilidad del evento A"
      ],
      "metadata": {
        "id": "VTHBXVr4jbQO"
      }
    },
    {
      "cell_type": "code",
      "source": [
        "#P_A denota a la probabilidad (P) del evento A\n",
        "P_A = len(A)/len(Omega)\n",
        "P_A"
      ],
      "metadata": {
        "colab": {
          "base_uri": "https://localhost:8080/"
        },
        "id": "6ZcA8X2fja18",
        "outputId": "41904dfe-3952-4ee6-b58f-9a8e48fdb72f"
      },
      "execution_count": 33,
      "outputs": [
        {
          "output_type": "execute_result",
          "data": {
            "text/plain": [
              "0.125"
            ]
          },
          "metadata": {},
          "execution_count": 33
        }
      ]
    },
    {
      "cell_type": "markdown",
      "source": [
        "En vez del décimal, podemos tener el número expresado eb fracción, lo cual se hace como sigue:\n",
        "\n",
        "Vamos a crear una función que calcule la probabilidad de un evento $E$ dentro de un espacio muestal $\\Omega$:"
      ],
      "metadata": {
        "id": "UHP6pES2kfu2"
      }
    },
    {
      "cell_type": "code",
      "source": [
        "from fractions import Fraction\n",
        "\n",
        "def p(E, Omega): #E un evento\n",
        "  p = Fraction(len(E),len(Omega))\n",
        "  return p"
      ],
      "metadata": {
        "id": "eV0Hgcy0kspy"
      },
      "execution_count": 34,
      "outputs": []
    },
    {
      "cell_type": "code",
      "source": [
        "p(A, Omega)"
      ],
      "metadata": {
        "colab": {
          "base_uri": "https://localhost:8080/"
        },
        "id": "YsuRVBeImJiR",
        "outputId": "94c9441d-a83c-4917-8699-59fa1383b204"
      },
      "execution_count": 35,
      "outputs": [
        {
          "output_type": "execute_result",
          "data": {
            "text/plain": [
              "Fraction(1, 8)"
            ]
          },
          "metadata": {},
          "execution_count": 35
        }
      ]
    },
    {
      "cell_type": "markdown",
      "source": [
        "---"
      ],
      "metadata": {
        "id": "_a7H3D2hvihh"
      }
    },
    {
      "cell_type": "markdown",
      "source": [
        "# EJERCICIO - Sábado 31 de Agosto 2024\n",
        "Se realiza un experimento aleatorio de lanzar una moneda tres veces y estamos interesados en calcular las siguientes probabilidades de eventos:\n",
        "\n",
        "\n",
        "Calcular:\n",
        "* S: Probabilidad de que todos los resultados sean soles\n",
        "* E: Probabilidad de que por lo menos un resultado sea sol"
      ],
      "metadata": {
        "id": "XEwL1X_gvZmq"
      }
    },
    {
      "cell_type": "code",
      "source": [
        "# Librerías necesarias\n",
        "import itertools\n",
        "from itertools import product\n",
        "from fractions import Fraction"
      ],
      "metadata": {
        "id": "8ens6NVgvcNT"
      },
      "execution_count": 11,
      "outputs": []
    },
    {
      "cell_type": "markdown",
      "source": [
        "# Ejercicio 1: Todos los resultados son soles"
      ],
      "metadata": {
        "id": "WWX_mynyxVdc"
      }
    },
    {
      "cell_type": "markdown",
      "source": [
        "## Desarrollo\n",
        "\n",
        "Sea $A$ = $\\{  (x_1, x_2, x_3) : x_i = A \\vee x_i = S \\}$ ;\n",
        "\n",
        "Para  $i = \\{1,2,3\\}$\n",
        "\n",
        "$$\\mathbb{P}[\\text{Todos Sol}] = \\frac{\\#\\{A \\in \\Omega : x_i = S; \\forall x_i\\in A \\}}{\\#\\Omega} =  \\frac{\\#\\{(S, S, S)\\}}{\\#\\Omega} = \\frac{1}{8} = \\mathbb{P}[(S,S,S)]$$\n",
        "\n",
        "\n",
        "$$$$"
      ],
      "metadata": {
        "id": "Q-JRzGNazhnU"
      }
    },
    {
      "cell_type": "markdown",
      "source": [
        "## Implementación"
      ],
      "metadata": {
        "id": "DykXnqQO4LvR"
      }
    },
    {
      "cell_type": "code",
      "source": [
        "# Espacio Muestral\n",
        "Omega = set(product({\"A\",\"S\"},repeat=3))\n",
        "\n",
        "# Lanzamientos con Soles\n",
        "S_1 = {om for om in Omega if om[0] == \"S\"} # Sol en la primer coordenada\n",
        "S_2 = {om for om in Omega if om[1] == \"S\"} # Sol en la segunda coordenada\n",
        "S_3 = {om for om in Omega if om[2] == \"S\"} # Sol en la tercer coordenada\n",
        "S = S_1.intersection(S_2.intersection(S_3)) # Intersección\n",
        "\n",
        "# Función que calcule la probabilidad de un evento 𝐸 dentro de un espacio muestal Ω\n",
        "def p(E, Omega):\n",
        "  p = Fraction(len(E),len(Omega))\n",
        "  return p\n",
        "\n",
        "# Probabilidad de que todos los lanzamientos sean Sol\n",
        "p(S, Omega)"
      ],
      "metadata": {
        "colab": {
          "base_uri": "https://localhost:8080/"
        },
        "id": "rLX0H4ppwCQc",
        "outputId": "46a8054d-7c06-429b-ff05-a80210c8b5ac"
      },
      "execution_count": 7,
      "outputs": [
        {
          "output_type": "execute_result",
          "data": {
            "text/plain": [
              "Fraction(1, 8)"
            ]
          },
          "metadata": {},
          "execution_count": 7
        }
      ]
    },
    {
      "cell_type": "markdown",
      "source": [
        "*Es equivalente para calcular la probabilidad de que todos los lanzamientos de la moneda sean águila*"
      ],
      "metadata": {
        "id": "62oe3F5S82NX"
      }
    },
    {
      "cell_type": "markdown",
      "source": [
        "# Ejercicio 2: Por lo menos un resultado es sol\n",
        "\n",
        "## Desarrollo\n",
        "\n",
        "Sea $A$ = $\\{  (x_1, x_2, x_3) : x_i = A \\vee x_i = S \\}$ ;\n",
        "\n",
        "Para  $i = \\{1,2,3\\}$\n",
        "\n",
        "$$\\mathbb{P}[\\text{Al menos un Sol}] = \\frac{\\#\\{A \\in \\Omega : x_i = S; \\text{ p.a. } x_i\\in A \\}}{\\#\\Omega}  = \\frac{7}{8}$$\n",
        "\n",
        "\n",
        "$$$$"
      ],
      "metadata": {
        "id": "-8lcgi5_5kqY"
      }
    },
    {
      "cell_type": "code",
      "source": [
        "al_menos_un_sol = {om for om in Omega if om[0] == \"S\" or om[1] == 'S' or om[2] == 'S'} # Sol en en alguna coordenada\n",
        "\n",
        "# Visualizar resultados exhaustivos\n",
        "print('#', al_menos_un_sol)\n",
        "print('--------------------------------------------------------------------------------------------------------------------------------------------')\n",
        "print('#', Omega)"
      ],
      "metadata": {
        "colab": {
          "base_uri": "https://localhost:8080/"
        },
        "id": "oR9GjRXm7CT9",
        "outputId": "729195ce-386b-4fbb-a996-e945ffcf86b0"
      },
      "execution_count": 20,
      "outputs": [
        {
          "output_type": "stream",
          "name": "stdout",
          "text": [
            "# {('A', 'S', 'S'), ('S', 'A', 'A'), ('A', 'A', 'S'), ('S', 'S', 'A'), ('A', 'S', 'A'), ('S', 'S', 'S'), ('S', 'A', 'S')}\n",
            "--------------------------------------------------------------------------------------------------------------------------------------------\n",
            "# {('A', 'A', 'A'), ('A', 'S', 'S'), ('S', 'A', 'S'), ('S', 'A', 'A'), ('A', 'A', 'S'), ('S', 'S', 'A'), ('A', 'S', 'A'), ('S', 'S', 'S')}\n"
          ]
        }
      ]
    },
    {
      "cell_type": "code",
      "source": [
        "p(al_menos_un_sol,Omega)"
      ],
      "metadata": {
        "id": "xUN5rj5sxG-B",
        "colab": {
          "base_uri": "https://localhost:8080/"
        },
        "outputId": "354c37fe-f9a7-4721-b5d2-99c902378ef9"
      },
      "execution_count": 19,
      "outputs": [
        {
          "output_type": "execute_result",
          "data": {
            "text/plain": [
              "Fraction(7, 8)"
            ]
          },
          "metadata": {},
          "execution_count": 19
        }
      ]
    }
  ]
}