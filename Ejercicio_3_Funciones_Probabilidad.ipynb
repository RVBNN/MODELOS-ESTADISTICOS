{
  "nbformat": 4,
  "nbformat_minor": 0,
  "metadata": {
    "colab": {
      "provenance": []
    },
    "kernelspec": {
      "name": "python3",
      "display_name": "Python 3"
    },
    "language_info": {
      "name": "python"
    }
  },
  "cells": [
    {
      "cell_type": "markdown",
      "source": [
        "## Ejemplo de la v.a. uniforme\n",
        "\n",
        "Sea el experimento aleatorio de lanzar dos dados justos:\n",
        "* $\\Omega = \\{1,2,3,4,5,6\\}\\times \\{1,2,3,4,5,6\\} $\n",
        "* $\\mathcal{F} = P(\\Omega)$\n",
        "* Para $w=(i,j)$ donde $i,j\\in\\{1,...,6\\}$ talque\n",
        "   $$\\mathbb{P}( \\{ \\omega \\} )=\\frac{1}{36}$$\n",
        "\n",
        "Vamos a definir a la siguiente variable aleatoria:\n",
        "     $$S:\\Omega \\to R_{S}$$\n",
        "\n",
        "donde $R_{S}=\\{2,3,4,5,6,7,8,9,10,11,12\\}$    \n",
        "\n",
        "Para que entendamos la ley de una v.a., basta con entender los siguientes datos\n",
        "\n",
        "$$\\{(k,\\mathbb{P}(S=k))\\}_{k\\in R_{S}}$$\n",
        "\n",
        "Vamos a entender a $S$ como eventos.\n",
        "\n",
        "Sea $S_{n}$ el evento la suma de las caras es $n$.\n",
        "\n",
        "---\n",
        "\n",
        "## Ejercicios\n",
        "\n",
        "\n",
        "1. Documenta tu colab\n",
        "2. Calcular la ley de las siguientes variables aleatorias:\n",
        "\n",
        "     *   La diferencia de las caras es mayor que 1\n",
        "     $$S_{n} = \\{(i,j)\\in\\Omega \\mid |i-j| > 1 \\} $$\n",
        "     *   La suma de las caras sea par\n",
        "     $$S_{n} = \\{(i,j)\\in\\Omega \\mid i+j = 2n \\} $$\n",
        "3. Verifica en cada caso, que\n",
        "   $$\\sum_{k\\in R_{X}}\\mathbb{P}(X=k) = 1$$\n",
        "4. Gráfica y calcula la función de distribución de la v.a. S (la suma de los resultados es n)  "
      ],
      "metadata": {
        "id": "sSuTG2h95m_l"
      }
    },
    {
      "cell_type": "markdown",
      "source": [
        "# Solución\n"
      ],
      "metadata": {
        "id": "gfjeQrC17PwX"
      }
    },
    {
      "cell_type": "code",
      "source": [
        "# Librerias\n",
        "from itertools import product\n",
        "from fractions import Fraction\n",
        "from collections import defaultdict\n",
        "\n",
        "# Función de probabilidad\n",
        "def P(A, Omega):\n",
        "  P = Fraction(len(A),len(Omega))\n",
        "  return P\n",
        "\n",
        "# Generamos el experimento de lanzar dos dados justos\n",
        "L = [i for i in range(1,7)]\n",
        "\n",
        "# Espacio Muestral\n",
        "Omega = set(product(L, repeat=2))"
      ],
      "metadata": {
        "id": "WrZSaN1I6joO"
      },
      "execution_count": 2,
      "outputs": []
    },
    {
      "cell_type": "markdown",
      "source": [
        "---\n",
        "#Ejercicio 1\n",
        "Consideremos el experimento aleatorio de lanzar dos dados justos:\n",
        "\n",
        "\\begin{align*}\n",
        "  \\Omega &= \\{(i,j)\\in\\Omega \\mid i, j = 1, \\dots, 6 \\}  \\\\\n",
        "  \\#(\\Omega) &= 36\n",
        "\\end{align*}\n",
        "\n",
        "Estamos interesados en el evento: La diferencia de las caras es mayor que 1\n",
        "\n",
        "\\begin{align*}\n",
        "  S &= \\{(i,j)\\in\\Omega \\mid |i-j| > 1 \\}  \\\\\n",
        "  R_S &= \\{ 2,3,4,5\\}  \\\\\n",
        "\\end{align*}\n"
      ],
      "metadata": {
        "id": "m6rDr8fm7YJX"
      }
    },
    {
      "cell_type": "code",
      "source": [
        "# Generamos el espacio muestral\n",
        "S = {(i,j): abs(i-j) for i,j in Omega}\n",
        "\n",
        "# Filtramos por el evento de interés: La diferencia de las caras es mayor que 1\n",
        "evento_interes = {key: value for key, value in S.items() if value > 1}\n",
        "evento_interes"
      ],
      "metadata": {
        "colab": {
          "base_uri": "https://localhost:8080/"
        },
        "id": "ZGESJ0f18OT8",
        "outputId": "814ea1d2-8165-4a99-ffea-3c685ef104f8"
      },
      "execution_count": 3,
      "outputs": [
        {
          "output_type": "execute_result",
          "data": {
            "text/plain": [
              "{(3, 1): 2,\n",
              " (4, 6): 2,\n",
              " (5, 1): 4,\n",
              " (1, 6): 5,\n",
              " (2, 5): 3,\n",
              " (1, 3): 2,\n",
              " (6, 2): 4,\n",
              " (4, 2): 2,\n",
              " (3, 6): 3,\n",
              " (5, 3): 2,\n",
              " (2, 4): 2,\n",
              " (1, 5): 4,\n",
              " (6, 1): 5,\n",
              " (6, 4): 2,\n",
              " (4, 1): 3,\n",
              " (3, 5): 2,\n",
              " (5, 2): 3,\n",
              " (1, 4): 3,\n",
              " (2, 6): 4,\n",
              " (6, 3): 3}"
            ]
          },
          "metadata": {},
          "execution_count": 3
        }
      ]
    },
    {
      "cell_type": "code",
      "source": [
        "# Agrupamos por resultado\n",
        "resultados = defaultdict(set)\n",
        "\n",
        "for i,j in evento_interes.items():\n",
        "  resultados[j].add(i) # Al resultado en común asignamos los valores que lo hacen posible\n",
        "\n",
        "# Ordenamos por key (resultado)\n",
        "resultados_ordenados = dict(sorted(resultados.items()))\n",
        "resultados_ordenados"
      ],
      "metadata": {
        "colab": {
          "base_uri": "https://localhost:8080/"
        },
        "id": "aQRvpzap9TPu",
        "outputId": "f84c13fe-b7ae-4346-e67d-87c8bf171ec3"
      },
      "execution_count": 4,
      "outputs": [
        {
          "output_type": "execute_result",
          "data": {
            "text/plain": [
              "{2: {(1, 3), (2, 4), (3, 1), (3, 5), (4, 2), (4, 6), (5, 3), (6, 4)},\n",
              " 3: {(1, 4), (2, 5), (3, 6), (4, 1), (5, 2), (6, 3)},\n",
              " 4: {(1, 5), (2, 6), (5, 1), (6, 2)},\n",
              " 5: {(1, 6), (6, 1)}}"
            ]
          },
          "metadata": {},
          "execution_count": 4
        }
      ]
    },
    {
      "cell_type": "code",
      "source": [
        "# Calculamos la función de probabilidad de nuestro evento\n",
        "fdp = {key : P(value ,Omega) for key, value in resultados_ordenados.items() }\n",
        "\n",
        "# Mostramos la función de probabilidad\n",
        "output = f'Función de probabilidad: {fdp}'\n",
        "output"
      ],
      "metadata": {
        "colab": {
          "base_uri": "https://localhost:8080/",
          "height": 35
        },
        "id": "VMFxK9Iv9gd7",
        "outputId": "98899282-6613-452a-9d93-19dace49235f"
      },
      "execution_count": 6,
      "outputs": [
        {
          "output_type": "execute_result",
          "data": {
            "text/plain": [
              "'Función de probabilidad: {2: Fraction(2, 9), 3: Fraction(1, 6), 4: Fraction(1, 9), 5: Fraction(1, 18)}'"
            ],
            "application/vnd.google.colaboratory.intrinsic+json": {
              "type": "string"
            }
          },
          "metadata": {},
          "execution_count": 6
        }
      ]
    },
    {
      "cell_type": "markdown",
      "source": [
        "---\n",
        "#Ejercicio 2\n",
        "\n",
        "Consideremos el experimento aleatorio de lanzar dos dados justos:\n",
        "\n",
        "\\begin{align*}\n",
        "  \\Omega &= \\{(i,j)\\in\\Omega \\mid i, j = 1, \\dots, 6 \\}  \\\\\n",
        "  \\#(\\Omega) &= 36\n",
        "\\end{align*}\n",
        "\n",
        "Estamos interesados en el evento: La suma de las caras sea par\n",
        "\n",
        "\\begin{align*}\n",
        "  S &= \\{(i,j)\\in\\Omega \\mid i+j = 2n \\}   \\\\\n",
        "  R_S &= \\{ 2,3,4,5,6,7,8,9,10,11,12 \\}  \\\\\n",
        "\\end{align*}"
      ],
      "metadata": {
        "id": "cn2pq38r_gmS"
      }
    },
    {
      "cell_type": "code",
      "source": [
        "# Generamos el espacio muestral de la suma de las caras de un dado\n",
        "S = {(i,j): (i+j) % 2 == 0 for i,j in Omega}\n",
        "\n",
        "# Filtramos por el evento de interés: La suma de las caras sea par\n",
        "evento_interes = {key: value for key, value in S.items() if value == True}\n",
        "evento_interes"
      ],
      "metadata": {
        "colab": {
          "base_uri": "https://localhost:8080/"
        },
        "id": "mhhlees7_3lR",
        "outputId": "ac41f491-edb5-4821-9026-e658aad6101a"
      },
      "execution_count": 7,
      "outputs": [
        {
          "output_type": "execute_result",
          "data": {
            "text/plain": [
              "{(3, 1): True,\n",
              " (4, 6): True,\n",
              " (5, 1): True,\n",
              " (2, 2): True,\n",
              " (1, 3): True,\n",
              " (6, 2): True,\n",
              " (4, 2): True,\n",
              " (3, 3): True,\n",
              " (5, 3): True,\n",
              " (2, 4): True,\n",
              " (1, 5): True,\n",
              " (6, 4): True,\n",
              " (3, 5): True,\n",
              " (4, 4): True,\n",
              " (5, 5): True,\n",
              " (1, 1): True,\n",
              " (2, 6): True,\n",
              " (6, 6): True}"
            ]
          },
          "metadata": {},
          "execution_count": 7
        }
      ]
    },
    {
      "cell_type": "code",
      "source": [
        "# Agrupamos por resultado\n",
        "resultados = defaultdict(set) #lista\n",
        "\n",
        "for i,j in evento_interes.items():\n",
        "  resultados[j].add(i) # Al resultado en común asignamos los valores que lo hacen posible\n",
        "\n",
        "# Ordenamos por key (resultado)\n",
        "resultados_ordenados = dict(sorted(resultados.items()))\n",
        "resultados_ordenados"
      ],
      "metadata": {
        "id": "RkUYcXx9AwIe",
        "outputId": "0f0a4234-e1f3-44eb-c8dd-1b8fb4a84b9f",
        "colab": {
          "base_uri": "https://localhost:8080/"
        }
      },
      "execution_count": 8,
      "outputs": [
        {
          "output_type": "execute_result",
          "data": {
            "text/plain": [
              "{True: {(1, 1),\n",
              "  (1, 3),\n",
              "  (1, 5),\n",
              "  (2, 2),\n",
              "  (2, 4),\n",
              "  (2, 6),\n",
              "  (3, 1),\n",
              "  (3, 3),\n",
              "  (3, 5),\n",
              "  (4, 2),\n",
              "  (4, 4),\n",
              "  (4, 6),\n",
              "  (5, 1),\n",
              "  (5, 3),\n",
              "  (5, 5),\n",
              "  (6, 2),\n",
              "  (6, 4),\n",
              "  (6, 6)}}"
            ]
          },
          "metadata": {},
          "execution_count": 8
        }
      ]
    },
    {
      "cell_type": "code",
      "source": [
        "# Calculamos la función de probabilidad de nuestro evento\n",
        "fdp = {key : P(value ,Omega) for key, value in resultados_ordenados.items() }\n",
        "\n",
        "# Mostramos la función de probabilidad\n",
        "output = f'Función de probabilidad: {fdp}'\n",
        "output"
      ],
      "metadata": {
        "id": "jhVaXwakAzqL",
        "outputId": "4ff9dc14-f54b-4cfc-ee92-ed604fad61b3",
        "colab": {
          "base_uri": "https://localhost:8080/",
          "height": 35
        }
      },
      "execution_count": 9,
      "outputs": [
        {
          "output_type": "execute_result",
          "data": {
            "text/plain": [
              "'Función de probabilidad: {True: Fraction(1, 2)}'"
            ],
            "application/vnd.google.colaboratory.intrinsic+json": {
              "type": "string"
            }
          },
          "metadata": {},
          "execution_count": 9
        }
      ]
    }
  ]
}