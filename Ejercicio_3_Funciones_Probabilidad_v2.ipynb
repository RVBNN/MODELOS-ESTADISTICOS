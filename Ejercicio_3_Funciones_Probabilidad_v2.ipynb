{
  "nbformat": 4,
  "nbformat_minor": 0,
  "metadata": {
    "colab": {
      "provenance": []
    },
    "kernelspec": {
      "name": "python3",
      "display_name": "Python 3"
    },
    "language_info": {
      "name": "python"
    }
  },
  "cells": [
    {
      "cell_type": "markdown",
      "source": [
        "## Ejemplo de la v.a. uniforme\n",
        "\n",
        "Sea el experimento aleatorio de lanzar dos dados justos:\n",
        "* $\\Omega = \\{1,2,3,4,5,6\\}\\times \\{1,2,3,4,5,6\\} $\n",
        "* $\\mathcal{F} = P(\\Omega)$\n",
        "* Para $w=(i,j)$ donde $i,j\\in\\{1,...,6\\}$ talque\n",
        "   $$\\mathbb{P}( \\{ \\omega \\} )=\\frac{1}{36}$$\n",
        "\n",
        "Vamos a definir a la siguiente variable aleatoria:\n",
        "     $$S:\\Omega \\to R_{S}$$\n",
        "\n",
        "donde $R_{S}=\\{2,3,4,5,6,7,8,9,10,11,12\\}$    \n",
        "\n",
        "Para que entendamos la ley de una v.a., basta con entender los siguientes datos\n",
        "\n",
        "$$\\{(k,\\mathbb{P}(S=k))\\}_{k\\in R_{S}}$$\n",
        "\n",
        "Vamos a entender a $S$ como eventos.\n",
        "\n",
        "Sea $S_{n}$ el evento la suma de las caras es $n$.\n",
        "\n",
        "---\n",
        "\n",
        "## Ejercicios\n",
        "\n",
        "\n",
        "1. Documenta tu colab\n",
        "2. Calcular la ley de las siguientes variables aleatorias:\n",
        "\n",
        "     *   La diferencia de las caras es mayor que 1\n",
        "    \n",
        "    $$ X =\n",
        "    \\begin{cases}\n",
        "    1, \\quad \\text{si } |i-j| > 1\\\\\n",
        "    0, \\quad \\text{e.o.c}\n",
        "    \\end{cases}\n",
        "    $$\n",
        "\n",
        "     *   La suma de las caras sea par\n",
        "    \n",
        "    $$ X =\n",
        "    \\begin{cases}\n",
        "    1, \\quad \\text{si } i+j = 2n \\text{ p.a. } n \\in \\mathbb{N} \\\\\n",
        "    0, \\quad \\text{e.o.c}\n",
        "    \\end{cases}\n",
        "    $$\n",
        "\n",
        "3. Verifica en cada caso, que\n",
        "   $$\\sum_{x\\in R_{X}}\\mathbb{P}(X=x) = 1$$\n",
        "4. Gráfica y calcula la función de distribución de la v.a. S (la suma de los resultados es n)  "
      ],
      "metadata": {
        "id": "sSuTG2h95m_l"
      }
    },
    {
      "cell_type": "markdown",
      "source": [
        "# Solución\n"
      ],
      "metadata": {
        "id": "gfjeQrC17PwX"
      }
    },
    {
      "cell_type": "code",
      "source": [
        "# Librerias\n",
        "import pandas as pd\n",
        "import numpy as np\n",
        "import matplotlib.pyplot as plt\n",
        "from itertools import product\n",
        "from fractions import Fraction\n",
        "from collections import defaultdict\n",
        "\n",
        "\n",
        "# Función de probabilidad\n",
        "def P(A, Omega):\n",
        "  P = Fraction(len(A),len(Omega))\n",
        "  return P\n",
        "\n",
        "# Generamos el experimento de lanzar dos dados justos\n",
        "L = [i for i in range(1,7)]\n",
        "\n",
        "# Espacio Muestral\n",
        "Omega = set(product(L, repeat=2))"
      ],
      "metadata": {
        "id": "WrZSaN1I6joO"
      },
      "execution_count": 31,
      "outputs": []
    },
    {
      "cell_type": "markdown",
      "source": [
        "---\n",
        "#Ejercicio 1\n",
        "Definimos a la variable aleatoria $X$ que modela la diferencia de las caras sea mayor a 1 como sigue:\n",
        "\n",
        "$$X =\n",
        "\\begin{cases}\n",
        "  1, \\quad \\text{si } |i-j| > 1\\\\\n",
        "  0, \\quad \\text{e.o.c}\n",
        "\\end{cases}\n",
        "$$\n",
        "\n",
        "Consideremos el experimento aleatorio de lanzar dos dados justos:\n",
        "\n",
        "\\begin{align*}\n",
        "  \\Omega &= \\{(i,j)\\in\\Omega \\mid i, j = 1, \\dots, 6 \\}  \\\\\n",
        "  \\#(\\Omega) &= 36\n",
        "\\end{align*}\n"
      ],
      "metadata": {
        "id": "m6rDr8fm7YJX"
      }
    },
    {
      "cell_type": "code",
      "source": [
        "# Generamos el espacio muestral\n",
        "S = {(i,j): abs(i-j) for i,j in Omega}\n",
        "S = dict(sorted(S.items())) # Ordenamos los resultados\n",
        "S"
      ],
      "metadata": {
        "colab": {
          "base_uri": "https://localhost:8080/"
        },
        "id": "ZGESJ0f18OT8",
        "outputId": "94b9b332-851c-4c3d-c6f1-ff96aaadeee2"
      },
      "execution_count": 27,
      "outputs": [
        {
          "output_type": "execute_result",
          "data": {
            "text/plain": [
              "{(1, 1): 0,\n",
              " (1, 2): 1,\n",
              " (1, 3): 2,\n",
              " (1, 4): 3,\n",
              " (1, 5): 4,\n",
              " (1, 6): 5,\n",
              " (2, 1): 1,\n",
              " (2, 2): 0,\n",
              " (2, 3): 1,\n",
              " (2, 4): 2,\n",
              " (2, 5): 3,\n",
              " (2, 6): 4,\n",
              " (3, 1): 2,\n",
              " (3, 2): 1,\n",
              " (3, 3): 0,\n",
              " (3, 4): 1,\n",
              " (3, 5): 2,\n",
              " (3, 6): 3,\n",
              " (4, 1): 3,\n",
              " (4, 2): 2,\n",
              " (4, 3): 1,\n",
              " (4, 4): 0,\n",
              " (4, 5): 1,\n",
              " (4, 6): 2,\n",
              " (5, 1): 4,\n",
              " (5, 2): 3,\n",
              " (5, 3): 2,\n",
              " (5, 4): 1,\n",
              " (5, 5): 0,\n",
              " (5, 6): 1,\n",
              " (6, 1): 5,\n",
              " (6, 2): 4,\n",
              " (6, 3): 3,\n",
              " (6, 4): 2,\n",
              " (6, 5): 1,\n",
              " (6, 6): 0}"
            ]
          },
          "metadata": {},
          "execution_count": 27
        }
      ]
    },
    {
      "cell_type": "markdown",
      "source": [
        "### Evento: Diferencia de las caras mayor que 1\n",
        "\n",
        "\\begin{align*}\n",
        "  E_1 &= \\{(i,j)\\in\\Omega \\mid |i-j| > 1 \\}  \\\\\n",
        "  R_{E_1} &= \\{ 2,3,4,5\\}  \\\\\n",
        "\\end{align*}\n"
      ],
      "metadata": {
        "id": "EHtTjECKLUD9"
      }
    },
    {
      "cell_type": "code",
      "source": [
        "# Filtramos por el evento de interés: La diferencia de las caras es mayor que 1\n",
        "evento_interes = {key: value for key, value in S.items() if value > 1}\n",
        "\n",
        "# Agrupamos por resultado\n",
        "resultados = defaultdict(set)\n",
        "\n",
        "for i,j in evento_interes.items():\n",
        "  resultados[j].add(i) # Al resultado en común asignamos los valores que lo hacen posible\n",
        "\n",
        "# Ordenamos por key (resultado)\n",
        "resultados_ordenados = dict(sorted(resultados.items()))\n",
        "resultados_ordenados"
      ],
      "metadata": {
        "colab": {
          "base_uri": "https://localhost:8080/"
        },
        "id": "aQRvpzap9TPu",
        "outputId": "991b28bd-c48a-4148-bb7d-48759e1a3473"
      },
      "execution_count": 3,
      "outputs": [
        {
          "output_type": "execute_result",
          "data": {
            "text/plain": [
              "{2: {(1, 3), (2, 4), (3, 1), (3, 5), (4, 2), (4, 6), (5, 3), (6, 4)},\n",
              " 3: {(1, 4), (2, 5), (3, 6), (4, 1), (5, 2), (6, 3)},\n",
              " 4: {(1, 5), (2, 6), (5, 1), (6, 2)},\n",
              " 5: {(1, 6), (6, 1)}}"
            ]
          },
          "metadata": {},
          "execution_count": 3
        }
      ]
    },
    {
      "cell_type": "code",
      "source": [
        "# Calculamos la función de probabilidad de nuestro evento de interés\n",
        "fdp = {key : P(value ,Omega) for key, value in resultados_ordenados.items()}\n",
        "fdp = pd.Series(fdp)\n",
        "\n",
        "# Mostramos la función de probabilidad\n",
        "output = f'Función de probabilidad del evento: Diferencias de las caras mayor a uno \\n{fdp} \\n Probabilidad del evento: {fdp.sum()}'\n",
        "print(output)"
      ],
      "metadata": {
        "colab": {
          "base_uri": "https://localhost:8080/"
        },
        "id": "VMFxK9Iv9gd7",
        "outputId": "03ef60f9-8f8e-40fb-f83f-b40463726226"
      },
      "execution_count": 23,
      "outputs": [
        {
          "output_type": "stream",
          "name": "stdout",
          "text": [
            "Función de probabilidad del evento: Diferencias de las caras mayor a uno \n",
            "2     2/9\n",
            "3     1/6\n",
            "4     1/9\n",
            "5    1/18\n",
            "dtype: object \n",
            " Probabilidad del evento: 5/9\n"
          ]
        }
      ]
    },
    {
      "cell_type": "markdown",
      "source": [
        "$$\\therefore \\mathbb{P}(\\text{Diferencia de las caras sea mayor que 1}) = \\mathbb{P}(X=1) = \\frac{5}{9} $$\n"
      ],
      "metadata": {
        "id": "gCS-2-ReDjLl"
      }
    },
    {
      "cell_type": "markdown",
      "source": [
        "### Evento: Diferencia de las caras menor o igual que 1\n",
        "\n",
        "\\begin{align*}\n",
        "  E_2 &= \\{(i,j)\\in\\Omega \\mid |i-j| \\leq 1 \\}  \\\\\n",
        "  R_{E_2} &= \\{ 0,1 \\}  \\\\\n",
        "\\end{align*}\n"
      ],
      "metadata": {
        "id": "_xye2pwILmp6"
      }
    },
    {
      "cell_type": "code",
      "source": [
        "# Filtramos por el evento de interés: La diferencia de las caras es mayor que 1\n",
        "evento_interes = {key: value for key, value in S.items() if value <= 1}\n",
        "\n",
        "# Agrupamos por resultado\n",
        "resultados = defaultdict(set)\n",
        "\n",
        "for i,j in evento_interes.items():\n",
        "  resultados[j].add(i) # Al resultado en común asignamos los valores que lo hacen posible\n",
        "\n",
        "# Ordenamos por key (resultado)\n",
        "resultados_ordenados = dict(sorted(resultados.items()))\n",
        "resultados_ordenados"
      ],
      "metadata": {
        "colab": {
          "base_uri": "https://localhost:8080/"
        },
        "id": "TloTn_OwMB2O",
        "outputId": "1a37fb32-761e-4475-c2d7-53dc61eaec43"
      },
      "execution_count": 24,
      "outputs": [
        {
          "output_type": "execute_result",
          "data": {
            "text/plain": [
              "{0: {(1, 1), (2, 2), (3, 3), (4, 4), (5, 5), (6, 6)},\n",
              " 1: {(1, 2),\n",
              "  (2, 1),\n",
              "  (2, 3),\n",
              "  (3, 2),\n",
              "  (3, 4),\n",
              "  (4, 3),\n",
              "  (4, 5),\n",
              "  (5, 4),\n",
              "  (5, 6),\n",
              "  (6, 5)}}"
            ]
          },
          "metadata": {},
          "execution_count": 24
        }
      ]
    },
    {
      "cell_type": "code",
      "source": [
        "# Calculamos la función de probabilidad de nuestro evento de interés\n",
        "fdp = {key : P(value ,Omega) for key, value in resultados_ordenados.items()}\n",
        "fdp = pd.Series(fdp)\n",
        "\n",
        "# Mostramos la función de probabilidad\n",
        "output = f'Función de probabilidad del evento: Diferencias de las caras mayor a uno \\n{fdp} \\n Probabilidad del evento: {fdp.sum()}'\n",
        "print(output)"
      ],
      "metadata": {
        "colab": {
          "base_uri": "https://localhost:8080/"
        },
        "id": "412WnIX6MMGk",
        "outputId": "bb8bf411-e8ab-48dd-abed-d8519e42297f"
      },
      "execution_count": 25,
      "outputs": [
        {
          "output_type": "stream",
          "name": "stdout",
          "text": [
            "Función de probabilidad del evento: Diferencias de las caras mayor a uno \n",
            "0     1/6\n",
            "1    5/18\n",
            "dtype: object \n",
            " Probabilidad del evento: 4/9\n"
          ]
        }
      ]
    },
    {
      "cell_type": "markdown",
      "source": [
        "$$\\therefore \\mathbb{P}(\\text{Diferencia de las caras sea menor o igual que 1}) = \\mathbb{P}(X=0) = \\frac{4}{9} $$\n"
      ],
      "metadata": {
        "id": "RweQOsI9MPS6"
      }
    },
    {
      "cell_type": "markdown",
      "source": [
        "$$ f_X(x)=\n",
        "\\begin{cases}\n",
        "  \\frac{5}{9}, \\quad \\text{si } |i-j| > 1\\\\\n",
        "  \\frac{4}{9}, \\quad \\text{e.o.c}\n",
        "\\end{cases}\n",
        "$$\n",
        "\n",
        "$$⇒ \\sum_xf_X(x) = \\frac{5}{9} + \\frac{4}{9} = 1 $$"
      ],
      "metadata": {
        "id": "nEdSm5WGMZ4G"
      }
    },
    {
      "cell_type": "code",
      "source": [
        "# Verificamos que la fdp sume 1, tomando todos los eventos de S\n",
        "resultados = defaultdict(set)\n",
        "\n",
        "# Agrupamos por resultado\n",
        "for i,j in S.items():\n",
        "  resultados[j].add(i)\n",
        "\n",
        "# Ordenamos por key (resultado)\n",
        "resultados_ordenados = dict(sorted(resultados.items()))\n",
        "\n",
        "fdpp = {key : P(value ,Omega) for key, value in resultados_ordenados.items()}\n",
        "fdpp = pd.Series(fdpp)\n",
        "\n",
        "# Mostramos la función de probabilidad\n",
        "output = f'Función de probabilidad del evento: Diferencias de las caras mayor a uno \\n{fdpp} \\n Probabilidad del evento: {fdpp.sum()}'\n",
        "print(output)"
      ],
      "metadata": {
        "colab": {
          "base_uri": "https://localhost:8080/"
        },
        "id": "eA_4pgk-NaVk",
        "outputId": "11565f1b-ff28-4e3f-ba0e-61ff7e00037e"
      },
      "execution_count": 61,
      "outputs": [
        {
          "output_type": "stream",
          "name": "stdout",
          "text": [
            "Función de probabilidad del evento: Diferencias de las caras mayor a uno \n",
            "0     1/6\n",
            "1    5/18\n",
            "2     2/9\n",
            "3     1/6\n",
            "4     1/9\n",
            "5    1/18\n",
            "dtype: object \n",
            " Probabilidad del evento: 1\n"
          ]
        }
      ]
    },
    {
      "cell_type": "code",
      "source": [
        "# Verificamos que la fdp sume 1, tomando todos los eventos de S\n",
        "resultados_X = defaultdict(set)\n",
        "\n",
        "# Agrupamos por resultado\n",
        "for i,j in S.items():\n",
        "  if j <= 1:\n",
        "    resultados_X[0].add(i)\n",
        "  else:\n",
        "    resultados_X[1].add(i)\n",
        "\n",
        "# Ordenamos por key (resultado)\n",
        "resultados_ordenados_X = dict(sorted(resultados_X.items()))\n",
        "\n",
        "fdp_X = {key : P(value ,Omega) for key, value in resultados_ordenados.items()}\n",
        "fdp_X= pd.Series(fdpp)\n",
        "\n",
        "# Mostramos la función de probabilidad\n",
        "output = f'Función de probabilidad del evento: Diferencias de las caras mayor a uno \\n{fdp_X} \\n Probabilidad del evento: {fdp.sum()}'\n",
        "print(output)"
      ],
      "metadata": {
        "colab": {
          "base_uri": "https://localhost:8080/"
        },
        "id": "j_hoiKmrU8-v",
        "outputId": "b699de54-8209-47a4-8186-08a27057a8b7"
      },
      "execution_count": 58,
      "outputs": [
        {
          "output_type": "stream",
          "name": "stdout",
          "text": [
            "Función de probabilidad del evento: Diferencias de las caras mayor a uno \n",
            "0    4/9\n",
            "1    5/9\n",
            "dtype: object \n",
            " Probabilidad del evento: 1\n"
          ]
        }
      ]
    },
    {
      "cell_type": "code",
      "source": [
        "fig, (ax1, ax2) = plt.subplots(1, 2, figsize=(20, 8))\n",
        "\n",
        "\n",
        "def addlabels(x, y, show_labels):\n",
        "  if show_labels:\n",
        "    for i in range(len(x)):\n",
        "      ax1.text(i, y[i]+.003, y[i], ha='center')\n",
        "  else:\n",
        "    for i in range(len(x)):\n",
        "      ax2.text(i, y[i]+.003, y[i], ha='center')\n",
        "\n",
        "ax1.bar(fdpp.index,fdpp.values, alpha = 0.4)\n",
        "addlabels(fdpp.index, fdpp.values, True)\n",
        "ax1.set_title('Función de probabilidad de la variable aleatoria: Diferencia de caras')\n",
        "ax1.set_xlabel('Rango de la v.a.')\n",
        "ax1.set_ylabel('Probabilidad')\n",
        "\n",
        "\n",
        "ax2.bar(fdp_X.index,fdp_X.values, color = 'orange', alpha = 0.4)\n",
        "addlabels(fdp_X.index, fdp_X.values, False)\n",
        "ax2.set_title('Función de probabilidad de la variable aleatoria: X')\n",
        "ax2.set_xlabel('Rango de la v.a.')\n",
        "ax2.set_ylabel('Probabilidad')\n",
        "\n",
        "\n",
        "plt.show()"
      ],
      "metadata": {
        "colab": {
          "base_uri": "https://localhost:8080/",
          "height": 719
        },
        "id": "g1D8XIa2V3dv",
        "outputId": "03b68647-2f42-4bcc-ff06-6b01d614767d"
      },
      "execution_count": 73,
      "outputs": [
        {
          "output_type": "display_data",
          "data": {
            "text/plain": [
              "<Figure size 2000x800 with 2 Axes>"
            ],
            "image/png": "[encoded data removed]"
          },
          "metadata": {}
        }
      ]
    },
    {
      "cell_type": "markdown",
      "source": [
        "---\n",
        "#Ejercicio 2\n",
        "Definimos a la variable aleatoria $X$ que modela la suma de caras sea par:\n",
        "\n",
        "$$X =\n",
        "\\begin{cases}\n",
        "  1, \\quad \\text{si } i+j = 2n \\text{ p.a. }n \\in \\mathbb{N}\\\\\n",
        "  0, \\quad \\text{e.o.c}\n",
        "\\end{cases}\n",
        "$$\n",
        "\n",
        "Consideremos el experimento aleatorio de lanzar dos dados justos:\n",
        "\n",
        "\\begin{align*}\n",
        "  \\Omega &= \\{(i,j)\\in\\Omega \\mid i, j = 1, \\dots, 6 \\}  \\\\\n",
        "  \\#(\\Omega) &= 36\n",
        "\\end{align*}\n"
      ],
      "metadata": {
        "id": "zy7V48anYz-F"
      }
    },
    {
      "cell_type": "code",
      "source": [
        "# Generamos el espacio muestral de la suma de las caras de un dado\n",
        "S = {(i,j): (i+j) % 2 == 0 for i,j in Omega}\n",
        "S = dict(sorted(S.items())) # Ordenamos los resultados\n",
        "S"
      ],
      "metadata": {
        "colab": {
          "base_uri": "https://localhost:8080/"
        },
        "id": "mhhlees7_3lR",
        "outputId": "1a9f1bbf-3e86-48f8-f111-a3f30843a403"
      },
      "execution_count": 79,
      "outputs": [
        {
          "output_type": "execute_result",
          "data": {
            "text/plain": [
              "{(1, 1): True,\n",
              " (1, 2): False,\n",
              " (1, 3): True,\n",
              " (1, 4): False,\n",
              " (1, 5): True,\n",
              " (1, 6): False,\n",
              " (2, 1): False,\n",
              " (2, 2): True,\n",
              " (2, 3): False,\n",
              " (2, 4): True,\n",
              " (2, 5): False,\n",
              " (2, 6): True,\n",
              " (3, 1): True,\n",
              " (3, 2): False,\n",
              " (3, 3): True,\n",
              " (3, 4): False,\n",
              " (3, 5): True,\n",
              " (3, 6): False,\n",
              " (4, 1): False,\n",
              " (4, 2): True,\n",
              " (4, 3): False,\n",
              " (4, 4): True,\n",
              " (4, 5): False,\n",
              " (4, 6): True,\n",
              " (5, 1): True,\n",
              " (5, 2): False,\n",
              " (5, 3): True,\n",
              " (5, 4): False,\n",
              " (5, 5): True,\n",
              " (5, 6): False,\n",
              " (6, 1): False,\n",
              " (6, 2): True,\n",
              " (6, 3): False,\n",
              " (6, 4): True,\n",
              " (6, 5): False,\n",
              " (6, 6): True}"
            ]
          },
          "metadata": {},
          "execution_count": 79
        }
      ]
    },
    {
      "cell_type": "code",
      "source": [
        "# Filtramos por el evento de interés: La suma de las caras sea par\n",
        "evento_interes = {key: value for key, value in S.items() if value == True}\n",
        "\n",
        "# Agrupamos por resultado\n",
        "resultados = defaultdict(set) #lista\n",
        "\n",
        "for i,j in evento_interes.items():\n",
        "  resultados[j].add(i) # Al resultado en común asignamos los valores que lo hacen posible\n",
        "\n",
        "# Ordenamos por key (resultado)\n",
        "resultados_ordenados = dict(sorted(resultados.items()))\n",
        "resultados_ordenados"
      ],
      "metadata": {
        "id": "RkUYcXx9AwIe",
        "outputId": "41504022-9681-431f-8d40-098c6a98d035",
        "colab": {
          "base_uri": "https://localhost:8080/"
        }
      },
      "execution_count": 80,
      "outputs": [
        {
          "output_type": "execute_result",
          "data": {
            "text/plain": [
              "{True: {(1, 1),\n",
              "  (1, 3),\n",
              "  (1, 5),\n",
              "  (2, 2),\n",
              "  (2, 4),\n",
              "  (2, 6),\n",
              "  (3, 1),\n",
              "  (3, 3),\n",
              "  (3, 5),\n",
              "  (4, 2),\n",
              "  (4, 4),\n",
              "  (4, 6),\n",
              "  (5, 1),\n",
              "  (5, 3),\n",
              "  (5, 5),\n",
              "  (6, 2),\n",
              "  (6, 4),\n",
              "  (6, 6)}}"
            ]
          },
          "metadata": {},
          "execution_count": 80
        }
      ]
    },
    {
      "cell_type": "code",
      "source": [
        "# Calculamos la función de probabilidad de nuestro evento\n",
        "fdp = {key : P(value ,Omega) for key, value in resultados_ordenados.items() }\n",
        "fdp = pd.Series(fdp)\n",
        "\n",
        "# Mostramos la función de probabilidad\n",
        "output = f'Función de probabilidad del evento: Diferencias de las caras mayor a uno \\n{fdp} \\n Probabilidad del evento: {fdp.sum()}'\n",
        "print(output)"
      ],
      "metadata": {
        "id": "jhVaXwakAzqL",
        "outputId": "7929979f-9602-4cc4-87fd-3bffa7762c0e",
        "colab": {
          "base_uri": "https://localhost:8080/"
        }
      },
      "execution_count": 77,
      "outputs": [
        {
          "output_type": "stream",
          "name": "stdout",
          "text": [
            "Función de probabilidad del evento: Diferencias de las caras mayor a uno \n",
            "True    1/2\n",
            "dtype: object \n",
            " Probabilidad del evento: 1/2\n"
          ]
        }
      ]
    },
    {
      "cell_type": "code",
      "source": [
        "# Verificamos que la fdp sume 1, tomando todos los eventos de S\n",
        "resultados_X = defaultdict(set)\n",
        "\n",
        "# Agrupamos por resultado\n",
        "for i,j in S.items():\n",
        "  if j % 2:\n",
        "    resultados_X[0].add(i)\n",
        "  else:\n",
        "    resultados_X[1].add(i)\n",
        "\n",
        "# Ordenamos por key (resultado)\n",
        "resultados_ordenados_X = dict(sorted(resultados_X.items()))\n",
        "\n",
        "fdp_X = {key : P(value ,Omega) for key, value in resultados_ordenados_X.items()}\n",
        "fdp_X= pd.Series(fdp_X)\n",
        "\n",
        "# Mostramos la función de probabilidad\n",
        "output = f'Función de probabilidad del evento: Suma de caras sea par \\n{fdp_X}'\n",
        "print(output)"
      ],
      "metadata": {
        "colab": {
          "base_uri": "https://localhost:8080/"
        },
        "id": "0MaJHjcv1g0t",
        "outputId": "981bfe60-9f05-4638-d3e8-10d7a09fdf59"
      },
      "execution_count": 86,
      "outputs": [
        {
          "output_type": "stream",
          "name": "stdout",
          "text": [
            "Función de probabilidad del evento: Suma de caras sea par \n",
            "0    1/2\n",
            "1    1/2\n",
            "dtype: object\n"
          ]
        }
      ]
    },
    {
      "cell_type": "code",
      "source": [
        "plt.bar(fdp_X.index,fdp_X.values, color = 'orange', alpha = 0.4)\n",
        "plt.title('Función de probabilidad de la variable aleatoria: X')\n",
        "plt.xlabel('Rango de la v.a.')\n",
        "plt.ylabel('Probabilidad')\n"
      ],
      "metadata": {
        "colab": {
          "base_uri": "https://localhost:8080/",
          "height": 489
        },
        "id": "lgVgDOs4eMhT",
        "outputId": "427a1b39-4c86-4287-e3d3-8392d7bb86ad"
      },
      "execution_count": 87,
      "outputs": [
        {
          "output_type": "execute_result",
          "data": {
            "text/plain": [
              "Text(0, 0.5, 'Probabilidad')"
            ]
          },
          "metadata": {},
          "execution_count": 87
        },
        {
          "output_type": "display_data",
          "data": {
            "text/plain": [
              "<Figure size 640x480 with 1 Axes>"
            ],
            "image/png": "[encoded data removed]"
          },
          "metadata": {}
        }
      ]
    }
  ]
}